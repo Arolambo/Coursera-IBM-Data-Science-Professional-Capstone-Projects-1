{
    "nbformat_minor": 1, 
    "cells": [
        {
            "source": "# The Battle of Neighborhoods", 
            "cell_type": "markdown", 
            "metadata": {
                "collapsed": true
            }
        }, 
        {
            "source": "## Introduction/Business Problem", 
            "cell_type": "markdown", 
            "metadata": {}
        }, 
        {
            "source": "There are many people who are working in various cities (say New York and Toronto) across the world. Let's say a person got a job offer from a great company with great career prospects in other city or other borough of his/her current city. If person accept the job offer then he/she has to shift to new location. I think a person would love to shift a location which is exactly or almost similar to his/her last location because he/she loves the great amenities and other types of venues that exist in his/her current neighbourhood like school, gym, swimming pool, Amusement park, restaurants, coffee-shops, spencer  etc. So I\u2019ll find out what are borough-neighbourhoods are very similar to give current location. A person can shift within the city or from one city to another city. If person is shifting within the city then he/she must be changing the borough and my task would be finding neighbourhoods in that borough which are very similar to his/her last location. If a person is shifting from one city to another city then my task would be finding the similar neighbourhoods. ", 
            "cell_type": "markdown", 
            "metadata": {}
        }, 
        {
            "source": "## Data", 
            "cell_type": "markdown", 
            "metadata": {}
        }, 
        {
            "source": "I\u2019ll be using the borough and neighbourhood data of two cities. My first city would be New York and data of this can be downloaded from this [link](https://cocl.us/new_york_dataset). This data would be *json* format and it can be very easily transformed into *pandas dataframe*. I would take only those are important for me like borough, neighbourhood, latitude and longitude. For more information about this data you can visit this [site](https://geo.nyu.edu/catalog/nyu_2451_34572). Second data of Toronto city can not be directly downloaded. Postal Code, borough and neighbourhood can be scrapped from [wikipedia page](https://en.wikipedia.org/wiki/List_of_postal_codes_of_Canada:_M).There are some rows where \u201cNot assigned\u201d is written. Drop the rows where borough is \u201cNot assigned\u201d (only). Merge the rows if Postal Code and Borough of two or more rows same and merged neighbourhood will be separated by comma \u201c,\u201d.  Latitude and longitude information can be downloaded from [here](https://cocl.us/Geospatial_data). Finally this data and Toronto data can be merged together. \nOnce both data are ready we\u2019ll use Foursquare API to get the venues near each neighbourhood. To get the nearby venues data we must have Foursquare account and app which will give the credentials.", 
            "cell_type": "markdown", 
            "metadata": {}
        }, 
        {
            "source": "", 
            "cell_type": "code", 
            "metadata": {}, 
            "outputs": [], 
            "execution_count": null
        }
    ], 
    "metadata": {
        "kernelspec": {
            "display_name": "Python 3.6", 
            "name": "python3", 
            "language": "python"
        }, 
        "language_info": {
            "mimetype": "text/x-python", 
            "nbconvert_exporter": "python", 
            "version": "3.6.8", 
            "name": "python", 
            "pygments_lexer": "ipython3", 
            "file_extension": ".py", 
            "codemirror_mode": {
                "version": 3, 
                "name": "ipython"
            }
        }
    }, 
    "nbformat": 4
}